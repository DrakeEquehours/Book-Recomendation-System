{
  "cells": [
    {
      "cell_type": "markdown",
      "source": [
        "# Machine Learning Terapan Proyek Akhir\n",
        "## Ahmad Zein Al Wafi\n",
        "Data yang digunakan dalam proyek ini adalah data [goodbooks-10k](https://www.kaggle.com/datasets/zygmunt/goodbooks-10k) dari Kaggle Dataset. Kumpulan data ini berisi sepuluh ribu buku populer. Data ini memiliki enam file, namun pada proyek ini hanya akan menggunakan dua file dengan format csv yaitu **books** yang berisi data buku untuk membuat sistem rekomendasi berbasis content based filtering dan **ratings** yang berisi data *rating* yang diberikan oleh pengguna untuk membuat sistem rekomendasi berbasis colaborative filtering"
      ],
      "metadata": {
        "id": "O_Ata7LKCzf6"
      }
    },
    {
      "cell_type": "markdown",
      "source": [
        "## Persiapan Lingkungan Pengembangan"
      ],
      "metadata": {
        "id": "xZDoEPWkC-cN"
      }
    },
    {
      "cell_type": "markdown",
      "source": [
        "Mempersiapkan tools library yang digunakan"
      ],
      "metadata": {
        "id": "tZMKis_cEQlD"
      }
    },
    {
      "cell_type": "code",
      "source": [
        "import pandas as pd\n",
        "import json\n",
        "import numpy as np\n",
        "import time\n",
        "import string\n",
        "from scipy.stats import *\n",
        "import matplotlib.pyplot as plt\n",
        "import seaborn as sns\n",
        "\n",
        "import sklearn\n",
        "from sklearn.metrics.pairwise import cosine_similarity\n",
        "from sklearn.feature_extraction.text import TfidfVectorizer\n",
        "from sklearn.metrics.pairwise import linear_kernel\n",
        "from sklearn.model_selection import train_test_split\n",
        "\n",
        "import tensorflow as tf\n",
        "from keras.layers import *\n",
        "from keras.models import Model"
      ],
      "metadata": {
        "id": "bd8iJ1jOEUDp"
      },
      "execution_count": 1,
      "outputs": []
    },
    {
      "cell_type": "markdown",
      "metadata": {
        "id": "SitKCoHFtnM1"
      },
      "source": [
        "Membuat file JSON untuk koneksi API ke website Kaggle"
      ]
    },
    {
      "cell_type": "code",
      "execution_count": 2,
      "metadata": {
        "id": "Pj1NL9x5RkB_"
      },
      "outputs": [],
      "source": [
        "api = {\"username\":\"-\",\"key\":\"-\"}\n",
        "  \n",
        "json_object = json.dumps(api, indent = 2)\n",
        "with open(\"kaggle.json\", \"w\") as outfile:\n",
        "    outfile.write(json_object)"
      ]
    },
    {
      "cell_type": "markdown",
      "metadata": {
        "id": "b85fbq78twUp"
      },
      "source": [
        "Instalasi agar terhubung dengan website Kaggle untuk mendapatkan data"
      ]
    },
    {
      "cell_type": "code",
      "execution_count": 3,
      "metadata": {
        "id": "ug-ktm7FRmkD"
      },
      "outputs": [],
      "source": [
        "! pip install -q kaggle\n",
        "! mkdir ~/.kaggle\n",
        "! cp kaggle.json ~/.kaggle/\n",
        "! chmod 600 ~/.kaggle/kaggle.json"
      ]
    },
    {
      "cell_type": "markdown",
      "metadata": {
        "id": "XCPKCW_st2Bx"
      },
      "source": [
        "Mendapatkan data dari Kaggle dan proses unzip data"
      ]
    },
    {
      "cell_type": "code",
      "execution_count": 4,
      "metadata": {
        "colab": {
          "base_uri": "https://localhost:8080/"
        },
        "id": "qC0Z45pzRtW0",
        "outputId": "0e105146-2326-4198-c4d8-4af9cf6cbb6a"
      },
      "outputs": [
        {
          "output_type": "stream",
          "name": "stdout",
          "text": [
            "Downloading goodbooks-10k.zip to /content\n",
            "\r  0% 0.00/11.6M [00:00<?, ?B/s]\r 43% 5.00M/11.6M [00:00<00:00, 40.7MB/s]\n",
            "\r100% 11.6M/11.6M [00:00<00:00, 59.4MB/s]\n",
            "Archive:  goodbooks-10k.zip\n",
            "  inflating: book_tags.csv           \n",
            "  inflating: books.csv               \n",
            "  inflating: ratings.csv             \n",
            "  inflating: sample_book.xml         \n",
            "  inflating: tags.csv                \n",
            "  inflating: to_read.csv             \n"
          ]
        }
      ],
      "source": [
        "! kaggle datasets download -d 'zygmunt/goodbooks-10k'\n",
        "! unzip 'goodbooks-10k.zip'"
      ]
    },
    {
      "cell_type": "markdown",
      "source": [
        "## Data Understanding"
      ],
      "metadata": {
        "id": "n2u0XkHRDD3U"
      }
    },
    {
      "cell_type": "markdown",
      "metadata": {
        "id": "TP5psXh1t8EB"
      },
      "source": [
        "Membaca data csv books"
      ]
    },
    {
      "cell_type": "code",
      "execution_count": 5,
      "metadata": {
        "id": "dSFHXG81SUg5"
      },
      "outputs": [],
      "source": [
        "books = pd.read_csv('books.csv', low_memory=False)"
      ]
    },
    {
      "cell_type": "markdown",
      "metadata": {
        "id": "AQgWbD_quApf"
      },
      "source": [
        "Melihat informasi data books"
      ]
    },
    {
      "cell_type": "code",
      "execution_count": 6,
      "metadata": {
        "colab": {
          "base_uri": "https://localhost:8080/"
        },
        "id": "h9Uls2IULFRB",
        "outputId": "c8e84a89-eaf1-4c5a-fefc-dfd29ea267f7"
      },
      "outputs": [
        {
          "output_type": "stream",
          "name": "stdout",
          "text": [
            "<class 'pandas.core.frame.DataFrame'>\n",
            "RangeIndex: 10000 entries, 0 to 9999\n",
            "Data columns (total 23 columns):\n",
            " #   Column                     Non-Null Count  Dtype  \n",
            "---  ------                     --------------  -----  \n",
            " 0   id                         10000 non-null  int64  \n",
            " 1   book_id                    10000 non-null  int64  \n",
            " 2   best_book_id               10000 non-null  int64  \n",
            " 3   work_id                    10000 non-null  int64  \n",
            " 4   books_count                10000 non-null  int64  \n",
            " 5   isbn                       9300 non-null   object \n",
            " 6   isbn13                     9415 non-null   float64\n",
            " 7   authors                    10000 non-null  object \n",
            " 8   original_publication_year  9979 non-null   float64\n",
            " 9   original_title             9415 non-null   object \n",
            " 10  title                      10000 non-null  object \n",
            " 11  language_code              8916 non-null   object \n",
            " 12  average_rating             10000 non-null  float64\n",
            " 13  ratings_count              10000 non-null  int64  \n",
            " 14  work_ratings_count         10000 non-null  int64  \n",
            " 15  work_text_reviews_count    10000 non-null  int64  \n",
            " 16  ratings_1                  10000 non-null  int64  \n",
            " 17  ratings_2                  10000 non-null  int64  \n",
            " 18  ratings_3                  10000 non-null  int64  \n",
            " 19  ratings_4                  10000 non-null  int64  \n",
            " 20  ratings_5                  10000 non-null  int64  \n",
            " 21  image_url                  10000 non-null  object \n",
            " 22  small_image_url            10000 non-null  object \n",
            "dtypes: float64(3), int64(13), object(7)\n",
            "memory usage: 1.8+ MB\n"
          ]
        }
      ],
      "source": [
        "books.info()"
      ]
    },
    {
      "cell_type": "markdown",
      "source": [
        "Melihat sample dari data"
      ],
      "metadata": {
        "id": "X1EYgUtOaxGY"
      }
    },
    {
      "cell_type": "code",
      "source": [
        "pd.set_option('display.max_columns', None)\n",
        "books.sample(10)"
      ],
      "metadata": {
        "colab": {
          "base_uri": "https://localhost:8080/",
          "height": 1000
        },
        "id": "AH24pEGYazJn",
        "outputId": "bbd8b60f-cdad-42db-ba47-06f38e8977d7"
      },
      "execution_count": 7,
      "outputs": [
        {
          "output_type": "execute_result",
          "data": {
            "text/plain": [
              "        id   book_id  best_book_id   work_id  books_count        isbn  \\\n",
              "3873  3874     30228         30228   2722196           28   515140872   \n",
              "2460  2461    604803        604803   1025414           45   765315238   \n",
              "673    674      7494          7494    141228           79   446611085   \n",
              "4133  4134     78131         78131     75453           39   553581554   \n",
              "9597  9598   6448482       6448482   6638574           12   759530483   \n",
              "5494  5495     10669         10669     13308           17   375758259   \n",
              "9515  9516      7199          7199   2547473           40    60586370   \n",
              "7235  7236      7926          7926    361114           31   385732953   \n",
              "9736  9737     73051         73051   1181789           16   451452313   \n",
              "4469  4470  13450339      20759393  18972016           24  1442436646   \n",
              "\n",
              "            isbn13              authors  original_publication_year  \\\n",
              "3873  9.780515e+12  Laurell K. Hamilton                     2006.0   \n",
              "2460  9.780765e+12       Terry Goodkind                     2007.0   \n",
              "673   9.780447e+12      James Patterson                     2001.0   \n",
              "4133  9.780554e+12        Iris Johansen                     1999.0   \n",
              "9597  9.780760e+12       Atsushi Ohkubo                     2004.0   \n",
              "5494  9.780376e+12     Roger Lowenstein                     2000.0   \n",
              "9515  9.780061e+12  Ann-Marie MacDonald                     2003.0   \n",
              "7235  9.780386e+12        Sydney Taylor                     1951.0   \n",
              "9736  9.780451e+12         Grant Naylor                     1990.0   \n",
              "4469  9.781442e+12         Kresley Cole                     2012.0   \n",
              "\n",
              "                                         original_title  \\\n",
              "3873           Micah (Anita Blake, Vampire Hunter, #13)   \n",
              "2460                    Confessor (Sword of Truth, #11)   \n",
              "673                        Suzanne's Diary for Nicholas   \n",
              "4133                                   The Killing Game   \n",
              "9597                                          ソウルイーター 2   \n",
              "5494  When Genius Failed: The Rise and Fall of Long-...   \n",
              "9515                             The Way the Crow Flies   \n",
              "7235                               All-of-a-Kind Family   \n",
              "9736                                   Better Than Life   \n",
              "4469                                    Poison Princess   \n",
              "\n",
              "                                                  title language_code  \\\n",
              "3873           Micah (Anita Blake, Vampire Hunter, #13)         en-US   \n",
              "2460                    Confessor (Sword of Truth, #11)         en-US   \n",
              "673                        Suzanne's Diary for Nicholas           eng   \n",
              "4133                  The Killing Game (Eve Duncan, #2)           eng   \n",
              "9597               Soul Eater, Vol. 02 (Soul Eater, #2)           eng   \n",
              "5494  When Genius Failed: The Rise and Fall of Long-...         en-US   \n",
              "9515                             The Way the Crow Flies         en-US   \n",
              "7235    All-of-a-Kind Family (All-of-a-Kind Family, #1)           eng   \n",
              "9736                    Better than Life (Red Dwarf #2)           eng   \n",
              "4469        Poison Princess (The Arcana Chronicles, #1)         en-US   \n",
              "\n",
              "      average_rating  ratings_count  work_ratings_count  \\\n",
              "3873            3.62          37410               38534   \n",
              "2460            4.08          37862               40294   \n",
              "673             4.16         121398              124164   \n",
              "4133            4.18          24790               25473   \n",
              "9597            4.47           9443                9540   \n",
              "5494            4.16          15619               16476   \n",
              "9515            4.08          10227               11055   \n",
              "7235            4.23          18383               19119   \n",
              "9736            4.05           9213               10069   \n",
              "4469            4.14          25679               31742   \n",
              "\n",
              "      work_text_reviews_count  ratings_1  ratings_2  ratings_3  ratings_4  \\\n",
              "3873                      842       2323       4989       9990       9063   \n",
              "2460                      845       1115       2265       6850      12256   \n",
              "673                      4255       2106       5364      21005      38213   \n",
              "4133                      408        126        541       4577       9698   \n",
              "9597                       76         51        200       1048       2180   \n",
              "5494                      460        183        395       2606       6635   \n",
              "9515                     1021        184        474       1875       4317   \n",
              "7235                      759        337        558       2869       6002   \n",
              "9736                      135         59        344       2216       3881   \n",
              "4469                     3753       1047       1457       4478       9652   \n",
              "\n",
              "      ratings_5                                          image_url  \\\n",
              "3873      12169  https://s.gr-assets.com/assets/nophoto/book/11...   \n",
              "2460      17808  https://s.gr-assets.com/assets/nophoto/book/11...   \n",
              "673       57476  https://s.gr-assets.com/assets/nophoto/book/11...   \n",
              "4133      10531  https://images.gr-assets.com/books/1314902885m...   \n",
              "9597       6061  https://s.gr-assets.com/assets/nophoto/book/11...   \n",
              "5494       6657  https://s.gr-assets.com/assets/nophoto/book/11...   \n",
              "9515       4205  https://s.gr-assets.com/assets/nophoto/book/11...   \n",
              "7235       9353  https://s.gr-assets.com/assets/nophoto/book/11...   \n",
              "9736       3569  https://images.gr-assets.com/books/1301794541m...   \n",
              "4469      15108  https://images.gr-assets.com/books/1356422925m...   \n",
              "\n",
              "                                        small_image_url  \n",
              "3873  https://s.gr-assets.com/assets/nophoto/book/50...  \n",
              "2460  https://s.gr-assets.com/assets/nophoto/book/50...  \n",
              "673   https://s.gr-assets.com/assets/nophoto/book/50...  \n",
              "4133  https://images.gr-assets.com/books/1314902885s...  \n",
              "9597  https://s.gr-assets.com/assets/nophoto/book/50...  \n",
              "5494  https://s.gr-assets.com/assets/nophoto/book/50...  \n",
              "9515  https://s.gr-assets.com/assets/nophoto/book/50...  \n",
              "7235  https://s.gr-assets.com/assets/nophoto/book/50...  \n",
              "9736  https://images.gr-assets.com/books/1301794541s...  \n",
              "4469  https://images.gr-assets.com/books/1356422925s...  "
            ],
            "text/html": [
              "\n",
              "  <div id=\"df-60d953e1-f085-422d-a878-32e2e5576e8c\">\n",
              "    <div class=\"colab-df-container\">\n",
              "      <div>\n",
              "<style scoped>\n",
              "    .dataframe tbody tr th:only-of-type {\n",
              "        vertical-align: middle;\n",
              "    }\n",
              "\n",
              "    .dataframe tbody tr th {\n",
              "        vertical-align: top;\n",
              "    }\n",
              "\n",
              "    .dataframe thead th {\n",
              "        text-align: right;\n",
              "    }\n",
              "</style>\n",
              "<table border=\"1\" class=\"dataframe\">\n",
              "  <thead>\n",
              "    <tr style=\"text-align: right;\">\n",
              "      <th></th>\n",
              "      <th>id</th>\n",
              "      <th>book_id</th>\n",
              "      <th>best_book_id</th>\n",
              "      <th>work_id</th>\n",
              "      <th>books_count</th>\n",
              "      <th>isbn</th>\n",
              "      <th>isbn13</th>\n",
              "      <th>authors</th>\n",
              "      <th>original_publication_year</th>\n",
              "      <th>original_title</th>\n",
              "      <th>title</th>\n",
              "      <th>language_code</th>\n",
              "      <th>average_rating</th>\n",
              "      <th>ratings_count</th>\n",
              "      <th>work_ratings_count</th>\n",
              "      <th>work_text_reviews_count</th>\n",
              "      <th>ratings_1</th>\n",
              "      <th>ratings_2</th>\n",
              "      <th>ratings_3</th>\n",
              "      <th>ratings_4</th>\n",
              "      <th>ratings_5</th>\n",
              "      <th>image_url</th>\n",
              "      <th>small_image_url</th>\n",
              "    </tr>\n",
              "  </thead>\n",
              "  <tbody>\n",
              "    <tr>\n",
              "      <th>3873</th>\n",
              "      <td>3874</td>\n",
              "      <td>30228</td>\n",
              "      <td>30228</td>\n",
              "      <td>2722196</td>\n",
              "      <td>28</td>\n",
              "      <td>515140872</td>\n",
              "      <td>9.780515e+12</td>\n",
              "      <td>Laurell K. Hamilton</td>\n",
              "      <td>2006.0</td>\n",
              "      <td>Micah (Anita Blake, Vampire Hunter, #13)</td>\n",
              "      <td>Micah (Anita Blake, Vampire Hunter, #13)</td>\n",
              "      <td>en-US</td>\n",
              "      <td>3.62</td>\n",
              "      <td>37410</td>\n",
              "      <td>38534</td>\n",
              "      <td>842</td>\n",
              "      <td>2323</td>\n",
              "      <td>4989</td>\n",
              "      <td>9990</td>\n",
              "      <td>9063</td>\n",
              "      <td>12169</td>\n",
              "      <td>https://s.gr-assets.com/assets/nophoto/book/11...</td>\n",
              "      <td>https://s.gr-assets.com/assets/nophoto/book/50...</td>\n",
              "    </tr>\n",
              "    <tr>\n",
              "      <th>2460</th>\n",
              "      <td>2461</td>\n",
              "      <td>604803</td>\n",
              "      <td>604803</td>\n",
              "      <td>1025414</td>\n",
              "      <td>45</td>\n",
              "      <td>765315238</td>\n",
              "      <td>9.780765e+12</td>\n",
              "      <td>Terry Goodkind</td>\n",
              "      <td>2007.0</td>\n",
              "      <td>Confessor (Sword of Truth, #11)</td>\n",
              "      <td>Confessor (Sword of Truth, #11)</td>\n",
              "      <td>en-US</td>\n",
              "      <td>4.08</td>\n",
              "      <td>37862</td>\n",
              "      <td>40294</td>\n",
              "      <td>845</td>\n",
              "      <td>1115</td>\n",
              "      <td>2265</td>\n",
              "      <td>6850</td>\n",
              "      <td>12256</td>\n",
              "      <td>17808</td>\n",
              "      <td>https://s.gr-assets.com/assets/nophoto/book/11...</td>\n",
              "      <td>https://s.gr-assets.com/assets/nophoto/book/50...</td>\n",
              "    </tr>\n",
              "    <tr>\n",
              "      <th>673</th>\n",
              "      <td>674</td>\n",
              "      <td>7494</td>\n",
              "      <td>7494</td>\n",
              "      <td>141228</td>\n",
              "      <td>79</td>\n",
              "      <td>446611085</td>\n",
              "      <td>9.780447e+12</td>\n",
              "      <td>James Patterson</td>\n",
              "      <td>2001.0</td>\n",
              "      <td>Suzanne's Diary for Nicholas</td>\n",
              "      <td>Suzanne's Diary for Nicholas</td>\n",
              "      <td>eng</td>\n",
              "      <td>4.16</td>\n",
              "      <td>121398</td>\n",
              "      <td>124164</td>\n",
              "      <td>4255</td>\n",
              "      <td>2106</td>\n",
              "      <td>5364</td>\n",
              "      <td>21005</td>\n",
              "      <td>38213</td>\n",
              "      <td>57476</td>\n",
              "      <td>https://s.gr-assets.com/assets/nophoto/book/11...</td>\n",
              "      <td>https://s.gr-assets.com/assets/nophoto/book/50...</td>\n",
              "    </tr>\n",
              "    <tr>\n",
              "      <th>4133</th>\n",
              "      <td>4134</td>\n",
              "      <td>78131</td>\n",
              "      <td>78131</td>\n",
              "      <td>75453</td>\n",
              "      <td>39</td>\n",
              "      <td>553581554</td>\n",
              "      <td>9.780554e+12</td>\n",
              "      <td>Iris Johansen</td>\n",
              "      <td>1999.0</td>\n",
              "      <td>The Killing Game</td>\n",
              "      <td>The Killing Game (Eve Duncan, #2)</td>\n",
              "      <td>eng</td>\n",
              "      <td>4.18</td>\n",
              "      <td>24790</td>\n",
              "      <td>25473</td>\n",
              "      <td>408</td>\n",
              "      <td>126</td>\n",
              "      <td>541</td>\n",
              "      <td>4577</td>\n",
              "      <td>9698</td>\n",
              "      <td>10531</td>\n",
              "      <td>https://images.gr-assets.com/books/1314902885m...</td>\n",
              "      <td>https://images.gr-assets.com/books/1314902885s...</td>\n",
              "    </tr>\n",
              "    <tr>\n",
              "      <th>9597</th>\n",
              "      <td>9598</td>\n",
              "      <td>6448482</td>\n",
              "      <td>6448482</td>\n",
              "      <td>6638574</td>\n",
              "      <td>12</td>\n",
              "      <td>759530483</td>\n",
              "      <td>9.780760e+12</td>\n",
              "      <td>Atsushi Ohkubo</td>\n",
              "      <td>2004.0</td>\n",
              "      <td>ソウルイーター 2</td>\n",
              "      <td>Soul Eater, Vol. 02 (Soul Eater, #2)</td>\n",
              "      <td>eng</td>\n",
              "      <td>4.47</td>\n",
              "      <td>9443</td>\n",
              "      <td>9540</td>\n",
              "      <td>76</td>\n",
              "      <td>51</td>\n",
              "      <td>200</td>\n",
              "      <td>1048</td>\n",
              "      <td>2180</td>\n",
              "      <td>6061</td>\n",
              "      <td>https://s.gr-assets.com/assets/nophoto/book/11...</td>\n",
              "      <td>https://s.gr-assets.com/assets/nophoto/book/50...</td>\n",
              "    </tr>\n",
              "    <tr>\n",
              "      <th>5494</th>\n",
              "      <td>5495</td>\n",
              "      <td>10669</td>\n",
              "      <td>10669</td>\n",
              "      <td>13308</td>\n",
              "      <td>17</td>\n",
              "      <td>375758259</td>\n",
              "      <td>9.780376e+12</td>\n",
              "      <td>Roger Lowenstein</td>\n",
              "      <td>2000.0</td>\n",
              "      <td>When Genius Failed: The Rise and Fall of Long-...</td>\n",
              "      <td>When Genius Failed: The Rise and Fall of Long-...</td>\n",
              "      <td>en-US</td>\n",
              "      <td>4.16</td>\n",
              "      <td>15619</td>\n",
              "      <td>16476</td>\n",
              "      <td>460</td>\n",
              "      <td>183</td>\n",
              "      <td>395</td>\n",
              "      <td>2606</td>\n",
              "      <td>6635</td>\n",
              "      <td>6657</td>\n",
              "      <td>https://s.gr-assets.com/assets/nophoto/book/11...</td>\n",
              "      <td>https://s.gr-assets.com/assets/nophoto/book/50...</td>\n",
              "    </tr>\n",
              "    <tr>\n",
              "      <th>9515</th>\n",
              "      <td>9516</td>\n",
              "      <td>7199</td>\n",
              "      <td>7199</td>\n",
              "      <td>2547473</td>\n",
              "      <td>40</td>\n",
              "      <td>60586370</td>\n",
              "      <td>9.780061e+12</td>\n",
              "      <td>Ann-Marie MacDonald</td>\n",
              "      <td>2003.0</td>\n",
              "      <td>The Way the Crow Flies</td>\n",
              "      <td>The Way the Crow Flies</td>\n",
              "      <td>en-US</td>\n",
              "      <td>4.08</td>\n",
              "      <td>10227</td>\n",
              "      <td>11055</td>\n",
              "      <td>1021</td>\n",
              "      <td>184</td>\n",
              "      <td>474</td>\n",
              "      <td>1875</td>\n",
              "      <td>4317</td>\n",
              "      <td>4205</td>\n",
              "      <td>https://s.gr-assets.com/assets/nophoto/book/11...</td>\n",
              "      <td>https://s.gr-assets.com/assets/nophoto/book/50...</td>\n",
              "    </tr>\n",
              "    <tr>\n",
              "      <th>7235</th>\n",
              "      <td>7236</td>\n",
              "      <td>7926</td>\n",
              "      <td>7926</td>\n",
              "      <td>361114</td>\n",
              "      <td>31</td>\n",
              "      <td>385732953</td>\n",
              "      <td>9.780386e+12</td>\n",
              "      <td>Sydney Taylor</td>\n",
              "      <td>1951.0</td>\n",
              "      <td>All-of-a-Kind Family</td>\n",
              "      <td>All-of-a-Kind Family (All-of-a-Kind Family, #1)</td>\n",
              "      <td>eng</td>\n",
              "      <td>4.23</td>\n",
              "      <td>18383</td>\n",
              "      <td>19119</td>\n",
              "      <td>759</td>\n",
              "      <td>337</td>\n",
              "      <td>558</td>\n",
              "      <td>2869</td>\n",
              "      <td>6002</td>\n",
              "      <td>9353</td>\n",
              "      <td>https://s.gr-assets.com/assets/nophoto/book/11...</td>\n",
              "      <td>https://s.gr-assets.com/assets/nophoto/book/50...</td>\n",
              "    </tr>\n",
              "    <tr>\n",
              "      <th>9736</th>\n",
              "      <td>9737</td>\n",
              "      <td>73051</td>\n",
              "      <td>73051</td>\n",
              "      <td>1181789</td>\n",
              "      <td>16</td>\n",
              "      <td>451452313</td>\n",
              "      <td>9.780451e+12</td>\n",
              "      <td>Grant Naylor</td>\n",
              "      <td>1990.0</td>\n",
              "      <td>Better Than Life</td>\n",
              "      <td>Better than Life (Red Dwarf #2)</td>\n",
              "      <td>eng</td>\n",
              "      <td>4.05</td>\n",
              "      <td>9213</td>\n",
              "      <td>10069</td>\n",
              "      <td>135</td>\n",
              "      <td>59</td>\n",
              "      <td>344</td>\n",
              "      <td>2216</td>\n",
              "      <td>3881</td>\n",
              "      <td>3569</td>\n",
              "      <td>https://images.gr-assets.com/books/1301794541m...</td>\n",
              "      <td>https://images.gr-assets.com/books/1301794541s...</td>\n",
              "    </tr>\n",
              "    <tr>\n",
              "      <th>4469</th>\n",
              "      <td>4470</td>\n",
              "      <td>13450339</td>\n",
              "      <td>20759393</td>\n",
              "      <td>18972016</td>\n",
              "      <td>24</td>\n",
              "      <td>1442436646</td>\n",
              "      <td>9.781442e+12</td>\n",
              "      <td>Kresley Cole</td>\n",
              "      <td>2012.0</td>\n",
              "      <td>Poison Princess</td>\n",
              "      <td>Poison Princess (The Arcana Chronicles, #1)</td>\n",
              "      <td>en-US</td>\n",
              "      <td>4.14</td>\n",
              "      <td>25679</td>\n",
              "      <td>31742</td>\n",
              "      <td>3753</td>\n",
              "      <td>1047</td>\n",
              "      <td>1457</td>\n",
              "      <td>4478</td>\n",
              "      <td>9652</td>\n",
              "      <td>15108</td>\n",
              "      <td>https://images.gr-assets.com/books/1356422925m...</td>\n",
              "      <td>https://images.gr-assets.com/books/1356422925s...</td>\n",
              "    </tr>\n",
              "  </tbody>\n",
              "</table>\n",
              "</div>\n",
              "      <button class=\"colab-df-convert\" onclick=\"convertToInteractive('df-60d953e1-f085-422d-a878-32e2e5576e8c')\"\n",
              "              title=\"Convert this dataframe to an interactive table.\"\n",
              "              style=\"display:none;\">\n",
              "        \n",
              "  <svg xmlns=\"http://www.w3.org/2000/svg\" height=\"24px\"viewBox=\"0 0 24 24\"\n",
              "       width=\"24px\">\n",
              "    <path d=\"M0 0h24v24H0V0z\" fill=\"none\"/>\n",
              "    <path d=\"M18.56 5.44l.94 2.06.94-2.06 2.06-.94-2.06-.94-.94-2.06-.94 2.06-2.06.94zm-11 1L8.5 8.5l.94-2.06 2.06-.94-2.06-.94L8.5 2.5l-.94 2.06-2.06.94zm10 10l.94 2.06.94-2.06 2.06-.94-2.06-.94-.94-2.06-.94 2.06-2.06.94z\"/><path d=\"M17.41 7.96l-1.37-1.37c-.4-.4-.92-.59-1.43-.59-.52 0-1.04.2-1.43.59L10.3 9.45l-7.72 7.72c-.78.78-.78 2.05 0 2.83L4 21.41c.39.39.9.59 1.41.59.51 0 1.02-.2 1.41-.59l7.78-7.78 2.81-2.81c.8-.78.8-2.07 0-2.86zM5.41 20L4 18.59l7.72-7.72 1.47 1.35L5.41 20z\"/>\n",
              "  </svg>\n",
              "      </button>\n",
              "      \n",
              "  <style>\n",
              "    .colab-df-container {\n",
              "      display:flex;\n",
              "      flex-wrap:wrap;\n",
              "      gap: 12px;\n",
              "    }\n",
              "\n",
              "    .colab-df-convert {\n",
              "      background-color: #E8F0FE;\n",
              "      border: none;\n",
              "      border-radius: 50%;\n",
              "      cursor: pointer;\n",
              "      display: none;\n",
              "      fill: #1967D2;\n",
              "      height: 32px;\n",
              "      padding: 0 0 0 0;\n",
              "      width: 32px;\n",
              "    }\n",
              "\n",
              "    .colab-df-convert:hover {\n",
              "      background-color: #E2EBFA;\n",
              "      box-shadow: 0px 1px 2px rgba(60, 64, 67, 0.3), 0px 1px 3px 1px rgba(60, 64, 67, 0.15);\n",
              "      fill: #174EA6;\n",
              "    }\n",
              "\n",
              "    [theme=dark] .colab-df-convert {\n",
              "      background-color: #3B4455;\n",
              "      fill: #D2E3FC;\n",
              "    }\n",
              "\n",
              "    [theme=dark] .colab-df-convert:hover {\n",
              "      background-color: #434B5C;\n",
              "      box-shadow: 0px 1px 3px 1px rgba(0, 0, 0, 0.15);\n",
              "      filter: drop-shadow(0px 1px 2px rgba(0, 0, 0, 0.3));\n",
              "      fill: #FFFFFF;\n",
              "    }\n",
              "  </style>\n",
              "\n",
              "      <script>\n",
              "        const buttonEl =\n",
              "          document.querySelector('#df-60d953e1-f085-422d-a878-32e2e5576e8c button.colab-df-convert');\n",
              "        buttonEl.style.display =\n",
              "          google.colab.kernel.accessAllowed ? 'block' : 'none';\n",
              "\n",
              "        async function convertToInteractive(key) {\n",
              "          const element = document.querySelector('#df-60d953e1-f085-422d-a878-32e2e5576e8c');\n",
              "          const dataTable =\n",
              "            await google.colab.kernel.invokeFunction('convertToInteractive',\n",
              "                                                     [key], {});\n",
              "          if (!dataTable) return;\n",
              "\n",
              "          const docLinkHtml = 'Like what you see? Visit the ' +\n",
              "            '<a target=\"_blank\" href=https://colab.research.google.com/notebooks/data_table.ipynb>data table notebook</a>'\n",
              "            + ' to learn more about interactive tables.';\n",
              "          element.innerHTML = '';\n",
              "          dataTable['output_type'] = 'display_data';\n",
              "          await google.colab.output.renderOutput(dataTable, element);\n",
              "          const docLink = document.createElement('div');\n",
              "          docLink.innerHTML = docLinkHtml;\n",
              "          element.appendChild(docLink);\n",
              "        }\n",
              "      </script>\n",
              "    </div>\n",
              "  </div>\n",
              "  "
            ]
          },
          "metadata": {},
          "execution_count": 7
        }
      ]
    },
    {
      "cell_type": "markdown",
      "source": [
        "Melihat statistik deskriptif data angka non-identitas"
      ],
      "metadata": {
        "id": "_3aPM-i2T1x6"
      }
    },
    {
      "cell_type": "code",
      "source": [
        "books[['average_rating', 'ratings_1', 'ratings_2', 'ratings_3', 'ratings_4', 'ratings_5', 'original_publication_year', 'ratings_count', 'work_text_reviews_count']].describe()"
      ],
      "metadata": {
        "colab": {
          "base_uri": "https://localhost:8080/",
          "height": 300
        },
        "id": "oG5Iv9pGTgYA",
        "outputId": "5bcf9327-c8ef-4ebf-952c-9d4693ddc672"
      },
      "execution_count": 8,
      "outputs": [
        {
          "output_type": "execute_result",
          "data": {
            "text/plain": [
              "       average_rating      ratings_1      ratings_2      ratings_3  \\\n",
              "count    10000.000000   10000.000000   10000.000000   10000.000000   \n",
              "mean         4.002191    1345.040600    3110.885000   11475.893800   \n",
              "std          0.254427    6635.626263    9717.123578   28546.449183   \n",
              "min          2.470000      11.000000      30.000000     323.000000   \n",
              "25%          3.850000     196.000000     656.000000    3112.000000   \n",
              "50%          4.020000     391.000000    1163.000000    4894.000000   \n",
              "75%          4.180000     885.000000    2353.250000    9287.000000   \n",
              "max          4.820000  456191.000000  436802.000000  793319.000000   \n",
              "\n",
              "          ratings_4     ratings_5  original_publication_year  ratings_count  \\\n",
              "count  1.000000e+04  1.000000e+04                9979.000000   1.000000e+04   \n",
              "mean   1.996570e+04  2.378981e+04                1981.987674   5.400124e+04   \n",
              "std    5.144736e+04  7.976889e+04                 152.576665   1.573700e+05   \n",
              "min    7.500000e+02  7.540000e+02               -1750.000000   2.716000e+03   \n",
              "25%    5.405750e+03  5.334000e+03                1990.000000   1.356875e+04   \n",
              "50%    8.269500e+03  8.836000e+03                2004.000000   2.115550e+04   \n",
              "75%    1.602350e+04  1.730450e+04                2011.000000   4.105350e+04   \n",
              "max    1.481305e+06  3.011543e+06                2017.000000   4.780653e+06   \n",
              "\n",
              "       work_text_reviews_count  \n",
              "count             10000.000000  \n",
              "mean               2919.955300  \n",
              "std                6124.378132  \n",
              "min                   3.000000  \n",
              "25%                 694.000000  \n",
              "50%                1402.000000  \n",
              "75%                2744.250000  \n",
              "max              155254.000000  "
            ],
            "text/html": [
              "\n",
              "  <div id=\"df-2c188aef-9ed9-4f41-a139-b7c7a47ab6a0\">\n",
              "    <div class=\"colab-df-container\">\n",
              "      <div>\n",
              "<style scoped>\n",
              "    .dataframe tbody tr th:only-of-type {\n",
              "        vertical-align: middle;\n",
              "    }\n",
              "\n",
              "    .dataframe tbody tr th {\n",
              "        vertical-align: top;\n",
              "    }\n",
              "\n",
              "    .dataframe thead th {\n",
              "        text-align: right;\n",
              "    }\n",
              "</style>\n",
              "<table border=\"1\" class=\"dataframe\">\n",
              "  <thead>\n",
              "    <tr style=\"text-align: right;\">\n",
              "      <th></th>\n",
              "      <th>average_rating</th>\n",
              "      <th>ratings_1</th>\n",
              "      <th>ratings_2</th>\n",
              "      <th>ratings_3</th>\n",
              "      <th>ratings_4</th>\n",
              "      <th>ratings_5</th>\n",
              "      <th>original_publication_year</th>\n",
              "      <th>ratings_count</th>\n",
              "      <th>work_text_reviews_count</th>\n",
              "    </tr>\n",
              "  </thead>\n",
              "  <tbody>\n",
              "    <tr>\n",
              "      <th>count</th>\n",
              "      <td>10000.000000</td>\n",
              "      <td>10000.000000</td>\n",
              "      <td>10000.000000</td>\n",
              "      <td>10000.000000</td>\n",
              "      <td>1.000000e+04</td>\n",
              "      <td>1.000000e+04</td>\n",
              "      <td>9979.000000</td>\n",
              "      <td>1.000000e+04</td>\n",
              "      <td>10000.000000</td>\n",
              "    </tr>\n",
              "    <tr>\n",
              "      <th>mean</th>\n",
              "      <td>4.002191</td>\n",
              "      <td>1345.040600</td>\n",
              "      <td>3110.885000</td>\n",
              "      <td>11475.893800</td>\n",
              "      <td>1.996570e+04</td>\n",
              "      <td>2.378981e+04</td>\n",
              "      <td>1981.987674</td>\n",
              "      <td>5.400124e+04</td>\n",
              "      <td>2919.955300</td>\n",
              "    </tr>\n",
              "    <tr>\n",
              "      <th>std</th>\n",
              "      <td>0.254427</td>\n",
              "      <td>6635.626263</td>\n",
              "      <td>9717.123578</td>\n",
              "      <td>28546.449183</td>\n",
              "      <td>5.144736e+04</td>\n",
              "      <td>7.976889e+04</td>\n",
              "      <td>152.576665</td>\n",
              "      <td>1.573700e+05</td>\n",
              "      <td>6124.378132</td>\n",
              "    </tr>\n",
              "    <tr>\n",
              "      <th>min</th>\n",
              "      <td>2.470000</td>\n",
              "      <td>11.000000</td>\n",
              "      <td>30.000000</td>\n",
              "      <td>323.000000</td>\n",
              "      <td>7.500000e+02</td>\n",
              "      <td>7.540000e+02</td>\n",
              "      <td>-1750.000000</td>\n",
              "      <td>2.716000e+03</td>\n",
              "      <td>3.000000</td>\n",
              "    </tr>\n",
              "    <tr>\n",
              "      <th>25%</th>\n",
              "      <td>3.850000</td>\n",
              "      <td>196.000000</td>\n",
              "      <td>656.000000</td>\n",
              "      <td>3112.000000</td>\n",
              "      <td>5.405750e+03</td>\n",
              "      <td>5.334000e+03</td>\n",
              "      <td>1990.000000</td>\n",
              "      <td>1.356875e+04</td>\n",
              "      <td>694.000000</td>\n",
              "    </tr>\n",
              "    <tr>\n",
              "      <th>50%</th>\n",
              "      <td>4.020000</td>\n",
              "      <td>391.000000</td>\n",
              "      <td>1163.000000</td>\n",
              "      <td>4894.000000</td>\n",
              "      <td>8.269500e+03</td>\n",
              "      <td>8.836000e+03</td>\n",
              "      <td>2004.000000</td>\n",
              "      <td>2.115550e+04</td>\n",
              "      <td>1402.000000</td>\n",
              "    </tr>\n",
              "    <tr>\n",
              "      <th>75%</th>\n",
              "      <td>4.180000</td>\n",
              "      <td>885.000000</td>\n",
              "      <td>2353.250000</td>\n",
              "      <td>9287.000000</td>\n",
              "      <td>1.602350e+04</td>\n",
              "      <td>1.730450e+04</td>\n",
              "      <td>2011.000000</td>\n",
              "      <td>4.105350e+04</td>\n",
              "      <td>2744.250000</td>\n",
              "    </tr>\n",
              "    <tr>\n",
              "      <th>max</th>\n",
              "      <td>4.820000</td>\n",
              "      <td>456191.000000</td>\n",
              "      <td>436802.000000</td>\n",
              "      <td>793319.000000</td>\n",
              "      <td>1.481305e+06</td>\n",
              "      <td>3.011543e+06</td>\n",
              "      <td>2017.000000</td>\n",
              "      <td>4.780653e+06</td>\n",
              "      <td>155254.000000</td>\n",
              "    </tr>\n",
              "  </tbody>\n",
              "</table>\n",
              "</div>\n",
              "      <button class=\"colab-df-convert\" onclick=\"convertToInteractive('df-2c188aef-9ed9-4f41-a139-b7c7a47ab6a0')\"\n",
              "              title=\"Convert this dataframe to an interactive table.\"\n",
              "              style=\"display:none;\">\n",
              "        \n",
              "  <svg xmlns=\"http://www.w3.org/2000/svg\" height=\"24px\"viewBox=\"0 0 24 24\"\n",
              "       width=\"24px\">\n",
              "    <path d=\"M0 0h24v24H0V0z\" fill=\"none\"/>\n",
              "    <path d=\"M18.56 5.44l.94 2.06.94-2.06 2.06-.94-2.06-.94-.94-2.06-.94 2.06-2.06.94zm-11 1L8.5 8.5l.94-2.06 2.06-.94-2.06-.94L8.5 2.5l-.94 2.06-2.06.94zm10 10l.94 2.06.94-2.06 2.06-.94-2.06-.94-.94-2.06-.94 2.06-2.06.94z\"/><path d=\"M17.41 7.96l-1.37-1.37c-.4-.4-.92-.59-1.43-.59-.52 0-1.04.2-1.43.59L10.3 9.45l-7.72 7.72c-.78.78-.78 2.05 0 2.83L4 21.41c.39.39.9.59 1.41.59.51 0 1.02-.2 1.41-.59l7.78-7.78 2.81-2.81c.8-.78.8-2.07 0-2.86zM5.41 20L4 18.59l7.72-7.72 1.47 1.35L5.41 20z\"/>\n",
              "  </svg>\n",
              "      </button>\n",
              "      \n",
              "  <style>\n",
              "    .colab-df-container {\n",
              "      display:flex;\n",
              "      flex-wrap:wrap;\n",
              "      gap: 12px;\n",
              "    }\n",
              "\n",
              "    .colab-df-convert {\n",
              "      background-color: #E8F0FE;\n",
              "      border: none;\n",
              "      border-radius: 50%;\n",
              "      cursor: pointer;\n",
              "      display: none;\n",
              "      fill: #1967D2;\n",
              "      height: 32px;\n",
              "      padding: 0 0 0 0;\n",
              "      width: 32px;\n",
              "    }\n",
              "\n",
              "    .colab-df-convert:hover {\n",
              "      background-color: #E2EBFA;\n",
              "      box-shadow: 0px 1px 2px rgba(60, 64, 67, 0.3), 0px 1px 3px 1px rgba(60, 64, 67, 0.15);\n",
              "      fill: #174EA6;\n",
              "    }\n",
              "\n",
              "    [theme=dark] .colab-df-convert {\n",
              "      background-color: #3B4455;\n",
              "      fill: #D2E3FC;\n",
              "    }\n",
              "\n",
              "    [theme=dark] .colab-df-convert:hover {\n",
              "      background-color: #434B5C;\n",
              "      box-shadow: 0px 1px 3px 1px rgba(0, 0, 0, 0.15);\n",
              "      filter: drop-shadow(0px 1px 2px rgba(0, 0, 0, 0.3));\n",
              "      fill: #FFFFFF;\n",
              "    }\n",
              "  </style>\n",
              "\n",
              "      <script>\n",
              "        const buttonEl =\n",
              "          document.querySelector('#df-2c188aef-9ed9-4f41-a139-b7c7a47ab6a0 button.colab-df-convert');\n",
              "        buttonEl.style.display =\n",
              "          google.colab.kernel.accessAllowed ? 'block' : 'none';\n",
              "\n",
              "        async function convertToInteractive(key) {\n",
              "          const element = document.querySelector('#df-2c188aef-9ed9-4f41-a139-b7c7a47ab6a0');\n",
              "          const dataTable =\n",
              "            await google.colab.kernel.invokeFunction('convertToInteractive',\n",
              "                                                     [key], {});\n",
              "          if (!dataTable) return;\n",
              "\n",
              "          const docLinkHtml = 'Like what you see? Visit the ' +\n",
              "            '<a target=\"_blank\" href=https://colab.research.google.com/notebooks/data_table.ipynb>data table notebook</a>'\n",
              "            + ' to learn more about interactive tables.';\n",
              "          element.innerHTML = '';\n",
              "          dataTable['output_type'] = 'display_data';\n",
              "          await google.colab.output.renderOutput(dataTable, element);\n",
              "          const docLink = document.createElement('div');\n",
              "          docLink.innerHTML = docLinkHtml;\n",
              "          element.appendChild(docLink);\n",
              "        }\n",
              "      </script>\n",
              "    </div>\n",
              "  </div>\n",
              "  "
            ]
          },
          "metadata": {},
          "execution_count": 8
        }
      ]
    },
    {
      "cell_type": "markdown",
      "metadata": {
        "id": "Cxo-ywK7uEeh"
      },
      "source": [
        "Melihat data null pada data books"
      ]
    },
    {
      "cell_type": "code",
      "execution_count": 9,
      "metadata": {
        "colab": {
          "base_uri": "https://localhost:8080/"
        },
        "id": "ootM5jZ5Ul7U",
        "outputId": "dcdb69da-91b5-4b3a-8fd8-5ca6db08d357"
      },
      "outputs": [
        {
          "output_type": "execute_result",
          "data": {
            "text/plain": [
              "id                              0\n",
              "book_id                         0\n",
              "best_book_id                    0\n",
              "work_id                         0\n",
              "books_count                     0\n",
              "isbn                          700\n",
              "isbn13                        585\n",
              "authors                         0\n",
              "original_publication_year      21\n",
              "original_title                585\n",
              "title                           0\n",
              "language_code                1084\n",
              "average_rating                  0\n",
              "ratings_count                   0\n",
              "work_ratings_count              0\n",
              "work_text_reviews_count         0\n",
              "ratings_1                       0\n",
              "ratings_2                       0\n",
              "ratings_3                       0\n",
              "ratings_4                       0\n",
              "ratings_5                       0\n",
              "image_url                       0\n",
              "small_image_url                 0\n",
              "dtype: int64"
            ]
          },
          "metadata": {},
          "execution_count": 9
        }
      ],
      "source": [
        "books.isnull().sum()"
      ]
    },
    {
      "cell_type": "markdown",
      "metadata": {
        "id": "Zzi2PfJ-uIfK"
      },
      "source": [
        "Melihat distribusi data null"
      ]
    },
    {
      "cell_type": "code",
      "execution_count": 10,
      "metadata": {
        "colab": {
          "base_uri": "https://localhost:8080/",
          "height": 409
        },
        "id": "0ucz4AtHmXW-",
        "outputId": "daf3994c-d571-4c79-e98c-1db8b3d0ed5a"
      },
      "outputs": [
        {
          "output_type": "execute_result",
          "data": {
            "text/plain": [
              "Text(0.5, 1.0, 'Distribusi nilai null pada fitur')"
            ]
          },
          "metadata": {},
          "execution_count": 10
        },
        {
          "output_type": "display_data",
          "data": {
            "text/plain": [
              "<Figure size 1728x432 with 1 Axes>"
            ],
            "image/png": "[encoded data removed]"
          },
          "metadata": {
            "needs_background": "light"
          }
        }
      ],
      "source": [
        "val_count = books[['isbn', 'isbn13', 'original_publication_year', 'original_title', 'language_code']].isnull().sum()\n",
        "\n",
        "plt.figure(figsize=(24,6))\n",
        "plt.bar(val_count.index, val_count.values)\n",
        "plt.title(\"Distribusi nilai null pada fitur\")"
      ]
    },
    {
      "cell_type": "markdown",
      "metadata": {
        "id": "GQjzcAytuLOT"
      },
      "source": [
        "Melihat distribusi tahun buku, asumsinya di data ada buku yang tercipta sebelum abad 18"
      ]
    },
    {
      "cell_type": "code",
      "execution_count": 11,
      "metadata": {
        "colab": {
          "base_uri": "https://localhost:8080/",
          "height": 408
        },
        "id": "2WBjVQpMmu_P",
        "outputId": "578a502d-0541-4cd7-9e9e-9dc0255c1e30"
      },
      "outputs": [
        {
          "output_type": "execute_result",
          "data": {
            "text/plain": [
              "Text(0.5, 1.0, 'Distribusi tahun publikasi')"
            ]
          },
          "metadata": {},
          "execution_count": 11
        },
        {
          "output_type": "display_data",
          "data": {
            "text/plain": [
              "<Figure size 1728x432 with 1 Axes>"
            ],
            "image/png": "[encoded data removed]"
          },
          "metadata": {
            "needs_background": "light"
          }
        }
      ],
      "source": [
        "val_count = books['original_publication_year']\n",
        "\n",
        "plt.figure(figsize=(24,6))\n",
        "plt.hist(val_count, bins=500)\n",
        "plt.gca().set(title='Frequency Histogram', ylabel='Frequency');\n",
        "plt.title(\"Distribusi tahun publikasi\")"
      ]
    },
    {
      "cell_type": "markdown",
      "metadata": {
        "id": "ymZGhr-eukB4"
      },
      "source": [
        "Melihat distribusi rating, ternyata ada spike di berberapa nilai rating"
      ]
    },
    {
      "cell_type": "code",
      "execution_count": 12,
      "metadata": {
        "colab": {
          "base_uri": "https://localhost:8080/",
          "height": 408
        },
        "id": "1a5qb9YAp0Sl",
        "outputId": "1afb01ce-789f-4e2b-ff24-da51ff2d0fa9"
      },
      "outputs": [
        {
          "output_type": "execute_result",
          "data": {
            "text/plain": [
              "Text(0.5, 1.0, 'Distribusi rata-rata rating')"
            ]
          },
          "metadata": {},
          "execution_count": 12
        },
        {
          "output_type": "display_data",
          "data": {
            "text/plain": [
              "<Figure size 1728x432 with 1 Axes>"
            ],
            "image/png": "[encoded data removed]"
          },
          "metadata": {
            "needs_background": "light"
          }
        }
      ],
      "source": [
        "val_count = books['average_rating']\n",
        "\n",
        "plt.figure(figsize=(24,6))\n",
        "plt.hist(val_count, bins=200)\n",
        "plt.gca().set(title='Frequency Histogram', ylabel='Frequency');\n",
        "plt.title(\"Distribusi rata-rata rating\")"
      ]
    },
    {
      "cell_type": "markdown",
      "metadata": {
        "id": "mheYh2eauo8E"
      },
      "source": [
        "Melihat distribusi secara umum dan uji normalitas"
      ]
    },
    {
      "cell_type": "code",
      "execution_count": 31,
      "metadata": {
        "colab": {
          "base_uri": "https://localhost:8080/",
          "height": 426
        },
        "id": "edDzuq7toVK0",
        "outputId": "b2e0114d-378c-4f12-918a-243384376eaf"
      },
      "outputs": [
        {
          "output_type": "stream",
          "name": "stdout",
          "text": [
            "skewness: -0.5115402712762502\n",
            "kurtosis: 0.8810778699146051\n"
          ]
        },
        {
          "output_type": "display_data",
          "data": {
            "text/plain": [
              "<Figure size 1440x432 with 1 Axes>"
            ],
            "image/png": "[encoded data removed]"
          },
          "metadata": {
            "needs_background": "light"
          }
        }
      ],
      "source": [
        "val_count = books['average_rating']\n",
        "\n",
        "plt.figure(figsize=(20,6))\n",
        "plt.hist(val_count, bins=40)\n",
        "plt.gca().set(title='Frequency Histogram', ylabel='Frequency');\n",
        "plt.title(\"Distribusi rata-rata rating secara umum\")\n",
        "print(\"skewness:\", skew(books['average_rating'], axis=0, bias=True))\n",
        "print(\"kurtosis:\", kurtosis(books['average_rating'], axis=0, bias=True))"
      ]
    },
    {
      "cell_type": "markdown",
      "metadata": {
        "id": "C3ua15HWuxDA"
      },
      "source": [
        "Melihat distribusi bahasa"
      ]
    },
    {
      "cell_type": "code",
      "execution_count": 14,
      "metadata": {
        "colab": {
          "base_uri": "https://localhost:8080/",
          "height": 408
        },
        "id": "b_O6ePWVUqxt",
        "outputId": "0bcdd6c4-a050-4196-9905-fc3bd499b855"
      },
      "outputs": [
        {
          "output_type": "execute_result",
          "data": {
            "text/plain": [
              "Text(0.5, 1.0, 'Distribusi kode bahasa')"
            ]
          },
          "metadata": {},
          "execution_count": 14
        },
        {
          "output_type": "display_data",
          "data": {
            "text/plain": [
              "<Figure size 1152x432 with 1 Axes>"
            ],
            "image/png": "[encoded data removed]"
          },
          "metadata": {
            "needs_background": "light"
          }
        }
      ],
      "source": [
        "val_count = books['language_code'].value_counts()\n",
        "\n",
        "plt.figure(figsize=(16,6))\n",
        "plt.bar(val_count.index, val_count.values)\n",
        "plt.title(\"Distribusi kode bahasa\")"
      ]
    },
    {
      "cell_type": "markdown",
      "metadata": {
        "id": "Vcei2X-VuzGu"
      },
      "source": [
        "Melihat korelasi tiap kolom data"
      ]
    },
    {
      "cell_type": "code",
      "execution_count": 15,
      "metadata": {
        "colab": {
          "base_uri": "https://localhost:8080/",
          "height": 662
        },
        "id": "p-__mFkNrFBz",
        "outputId": "804d917f-15a6-440a-b481-eb8237a89ccb"
      },
      "outputs": [
        {
          "output_type": "display_data",
          "data": {
            "text/plain": [
              "<Figure size 720x720 with 2 Axes>"
            ],
            "image/png": "[encoded data removed]"
          },
          "metadata": {
            "needs_background": "light"
          }
        }
      ],
      "source": [
        "corr = books.corr()\n",
        "fig, ax = plt.subplots(figsize=(10,10))\n",
        "ax1 = sns.heatmap(corr, cbar=1, linewidths=1,vmax=1, vmin=0, square=True, cmap='Blues', ax=ax)\n",
        "plt.show()"
      ]
    },
    {
      "cell_type": "markdown",
      "source": [
        "## Data Preparation"
      ],
      "metadata": {
        "id": "mI17_RKrDLgs"
      }
    },
    {
      "cell_type": "markdown",
      "source": [
        "### Content Based Filtering"
      ],
      "metadata": {
        "id": "gkwDUjG-DP9l"
      }
    },
    {
      "cell_type": "markdown",
      "metadata": {
        "id": "4AXyiWVgu2Su"
      },
      "source": [
        "Membuat dataframe sendiri untuk dimanipulasi sebagai data konten"
      ]
    },
    {
      "cell_type": "code",
      "execution_count": 16,
      "metadata": {
        "id": "D9ZxOj_oR7z5"
      },
      "outputs": [],
      "source": [
        "combined_data = books[['original_title','authors','average_rating', 'language_code']]\n",
        "combined_data = combined_data.astype(str)\n",
        "combined_data['content'] = combined_data['original_title'] + ' ' + combined_data['authors'] + ' ' + combined_data['average_rating'] + ' ' + combined_data['language_code']"
      ]
    },
    {
      "cell_type": "markdown",
      "metadata": {
        "id": "vfvuBivWu-12"
      },
      "source": [
        "Memperbaharui index"
      ]
    },
    {
      "cell_type": "code",
      "execution_count": 17,
      "metadata": {
        "colab": {
          "base_uri": "https://localhost:8080/",
          "height": 206
        },
        "id": "7CkvMi-BY2sV",
        "outputId": "f3561cdd-b34b-484d-9c47-5824fed17a64"
      },
      "outputs": [
        {
          "output_type": "execute_result",
          "data": {
            "text/plain": [
              "      index                                    original_title  \\\n",
              "1075   1075                                          The Nest   \n",
              "4748   4748  D-Day June 6, 1944: The Climactic Battle of WWII   \n",
              "9331   9331                                               nan   \n",
              "7798   7798                          黒執事 II [Kuroshitsuji II]   \n",
              "3959   3959                                     Ночной дозор    \n",
              "\n",
              "                                  authors average_rating language_code  \\\n",
              "1075              Cynthia D'Aprix Sweeney           3.45           eng   \n",
              "4748                   Stephen E. Ambrose           4.25           eng   \n",
              "9331                     Jessica Sorensen           4.15           eng   \n",
              "7798             Yana Toboso, Tomo Kimura           4.48           eng   \n",
              "3959  Sergei Lukyanenko, Andrew Bromfield           3.97           eng   \n",
              "\n",
              "                                                content  \n",
              "1075          The Nest Cynthia D'Aprix Sweeney 3.45 eng  \n",
              "4748  D-Day June 6, 1944: The Climactic Battle of WW...  \n",
              "9331                      nan Jessica Sorensen 4.15 eng  \n",
              "7798  黒執事 II [Kuroshitsuji II] Yana Toboso, Tomo Kim...  \n",
              "3959  Ночной дозор  Sergei Lukyanenko, Andrew Bromfi...  "
            ],
            "text/html": [
              "\n",
              "  <div id=\"df-666ce0b4-21fe-4ba4-886b-331f702e6b9d\">\n",
              "    <div class=\"colab-df-container\">\n",
              "      <div>\n",
              "<style scoped>\n",
              "    .dataframe tbody tr th:only-of-type {\n",
              "        vertical-align: middle;\n",
              "    }\n",
              "\n",
              "    .dataframe tbody tr th {\n",
              "        vertical-align: top;\n",
              "    }\n",
              "\n",
              "    .dataframe thead th {\n",
              "        text-align: right;\n",
              "    }\n",
              "</style>\n",
              "<table border=\"1\" class=\"dataframe\">\n",
              "  <thead>\n",
              "    <tr style=\"text-align: right;\">\n",
              "      <th></th>\n",
              "      <th>index</th>\n",
              "      <th>original_title</th>\n",
              "      <th>authors</th>\n",
              "      <th>average_rating</th>\n",
              "      <th>language_code</th>\n",
              "      <th>content</th>\n",
              "    </tr>\n",
              "  </thead>\n",
              "  <tbody>\n",
              "    <tr>\n",
              "      <th>1075</th>\n",
              "      <td>1075</td>\n",
              "      <td>The Nest</td>\n",
              "      <td>Cynthia D'Aprix Sweeney</td>\n",
              "      <td>3.45</td>\n",
              "      <td>eng</td>\n",
              "      <td>The Nest Cynthia D'Aprix Sweeney 3.45 eng</td>\n",
              "    </tr>\n",
              "    <tr>\n",
              "      <th>4748</th>\n",
              "      <td>4748</td>\n",
              "      <td>D-Day June 6, 1944: The Climactic Battle of WWII</td>\n",
              "      <td>Stephen E. Ambrose</td>\n",
              "      <td>4.25</td>\n",
              "      <td>eng</td>\n",
              "      <td>D-Day June 6, 1944: The Climactic Battle of WW...</td>\n",
              "    </tr>\n",
              "    <tr>\n",
              "      <th>9331</th>\n",
              "      <td>9331</td>\n",
              "      <td>nan</td>\n",
              "      <td>Jessica Sorensen</td>\n",
              "      <td>4.15</td>\n",
              "      <td>eng</td>\n",
              "      <td>nan Jessica Sorensen 4.15 eng</td>\n",
              "    </tr>\n",
              "    <tr>\n",
              "      <th>7798</th>\n",
              "      <td>7798</td>\n",
              "      <td>黒執事 II [Kuroshitsuji II]</td>\n",
              "      <td>Yana Toboso, Tomo Kimura</td>\n",
              "      <td>4.48</td>\n",
              "      <td>eng</td>\n",
              "      <td>黒執事 II [Kuroshitsuji II] Yana Toboso, Tomo Kim...</td>\n",
              "    </tr>\n",
              "    <tr>\n",
              "      <th>3959</th>\n",
              "      <td>3959</td>\n",
              "      <td>Ночной дозор</td>\n",
              "      <td>Sergei Lukyanenko, Andrew Bromfield</td>\n",
              "      <td>3.97</td>\n",
              "      <td>eng</td>\n",
              "      <td>Ночной дозор  Sergei Lukyanenko, Andrew Bromfi...</td>\n",
              "    </tr>\n",
              "  </tbody>\n",
              "</table>\n",
              "</div>\n",
              "      <button class=\"colab-df-convert\" onclick=\"convertToInteractive('df-666ce0b4-21fe-4ba4-886b-331f702e6b9d')\"\n",
              "              title=\"Convert this dataframe to an interactive table.\"\n",
              "              style=\"display:none;\">\n",
              "        \n",
              "  <svg xmlns=\"http://www.w3.org/2000/svg\" height=\"24px\"viewBox=\"0 0 24 24\"\n",
              "       width=\"24px\">\n",
              "    <path d=\"M0 0h24v24H0V0z\" fill=\"none\"/>\n",
              "    <path d=\"M18.56 5.44l.94 2.06.94-2.06 2.06-.94-2.06-.94-.94-2.06-.94 2.06-2.06.94zm-11 1L8.5 8.5l.94-2.06 2.06-.94-2.06-.94L8.5 2.5l-.94 2.06-2.06.94zm10 10l.94 2.06.94-2.06 2.06-.94-2.06-.94-.94-2.06-.94 2.06-2.06.94z\"/><path d=\"M17.41 7.96l-1.37-1.37c-.4-.4-.92-.59-1.43-.59-.52 0-1.04.2-1.43.59L10.3 9.45l-7.72 7.72c-.78.78-.78 2.05 0 2.83L4 21.41c.39.39.9.59 1.41.59.51 0 1.02-.2 1.41-.59l7.78-7.78 2.81-2.81c.8-.78.8-2.07 0-2.86zM5.41 20L4 18.59l7.72-7.72 1.47 1.35L5.41 20z\"/>\n",
              "  </svg>\n",
              "      </button>\n",
              "      \n",
              "  <style>\n",
              "    .colab-df-container {\n",
              "      display:flex;\n",
              "      flex-wrap:wrap;\n",
              "      gap: 12px;\n",
              "    }\n",
              "\n",
              "    .colab-df-convert {\n",
              "      background-color: #E8F0FE;\n",
              "      border: none;\n",
              "      border-radius: 50%;\n",
              "      cursor: pointer;\n",
              "      display: none;\n",
              "      fill: #1967D2;\n",
              "      height: 32px;\n",
              "      padding: 0 0 0 0;\n",
              "      width: 32px;\n",
              "    }\n",
              "\n",
              "    .colab-df-convert:hover {\n",
              "      background-color: #E2EBFA;\n",
              "      box-shadow: 0px 1px 2px rgba(60, 64, 67, 0.3), 0px 1px 3px 1px rgba(60, 64, 67, 0.15);\n",
              "      fill: #174EA6;\n",
              "    }\n",
              "\n",
              "    [theme=dark] .colab-df-convert {\n",
              "      background-color: #3B4455;\n",
              "      fill: #D2E3FC;\n",
              "    }\n",
              "\n",
              "    [theme=dark] .colab-df-convert:hover {\n",
              "      background-color: #434B5C;\n",
              "      box-shadow: 0px 1px 3px 1px rgba(0, 0, 0, 0.15);\n",
              "      filter: drop-shadow(0px 1px 2px rgba(0, 0, 0, 0.3));\n",
              "      fill: #FFFFFF;\n",
              "    }\n",
              "  </style>\n",
              "\n",
              "      <script>\n",
              "        const buttonEl =\n",
              "          document.querySelector('#df-666ce0b4-21fe-4ba4-886b-331f702e6b9d button.colab-df-convert');\n",
              "        buttonEl.style.display =\n",
              "          google.colab.kernel.accessAllowed ? 'block' : 'none';\n",
              "\n",
              "        async function convertToInteractive(key) {\n",
              "          const element = document.querySelector('#df-666ce0b4-21fe-4ba4-886b-331f702e6b9d');\n",
              "          const dataTable =\n",
              "            await google.colab.kernel.invokeFunction('convertToInteractive',\n",
              "                                                     [key], {});\n",
              "          if (!dataTable) return;\n",
              "\n",
              "          const docLinkHtml = 'Like what you see? Visit the ' +\n",
              "            '<a target=\"_blank\" href=https://colab.research.google.com/notebooks/data_table.ipynb>data table notebook</a>'\n",
              "            + ' to learn more about interactive tables.';\n",
              "          element.innerHTML = '';\n",
              "          dataTable['output_type'] = 'display_data';\n",
              "          await google.colab.output.renderOutput(dataTable, element);\n",
              "          const docLink = document.createElement('div');\n",
              "          docLink.innerHTML = docLinkHtml;\n",
              "          element.appendChild(docLink);\n",
              "        }\n",
              "      </script>\n",
              "    </div>\n",
              "  </div>\n",
              "  "
            ]
          },
          "metadata": {},
          "execution_count": 17
        }
      ],
      "source": [
        "try:\n",
        "  combined_data = combined_data.reset_index()\n",
        "  indices = pd.Series(combined_data.index, index=combined_data['original_title'])\n",
        "except:\n",
        "  pass\n",
        "combined_data.sample(5)"
      ]
    },
    {
      "cell_type": "markdown",
      "metadata": {
        "id": "uHBMOqKovBzN"
      },
      "source": [
        "Melakukan pembobotan dengan metode TF-IDF"
      ]
    },
    {
      "cell_type": "code",
      "execution_count": 18,
      "metadata": {
        "id": "Rbvx7uhMY7tj"
      },
      "outputs": [],
      "source": [
        "tfidf = TfidfVectorizer(stop_words='english')\n",
        "tfidf_matrix = tfidf.fit_transform(combined_data['content'])"
      ]
    },
    {
      "cell_type": "markdown",
      "metadata": {
        "id": "NB6Y6B9RvG2Q"
      },
      "source": [
        "Melihat matrix shape TF-IDF"
      ]
    },
    {
      "cell_type": "code",
      "execution_count": 19,
      "metadata": {
        "colab": {
          "base_uri": "https://localhost:8080/"
        },
        "id": "i--qBRDUY95X",
        "outputId": "cc7d2ece-94fd-4954-c984-1f03bc5dad95"
      },
      "outputs": [
        {
          "output_type": "execute_result",
          "data": {
            "text/plain": [
              "(10000, 14365)"
            ]
          },
          "metadata": {},
          "execution_count": 19
        }
      ],
      "source": [
        "tfidf_matrix.shape"
      ]
    },
    {
      "cell_type": "markdown",
      "source": [
        "### Colaborative Filtering"
      ],
      "metadata": {
        "id": "BqrdZO4lDnN6"
      }
    },
    {
      "cell_type": "markdown",
      "source": [
        "Membaca data rating dan menentukan jumlah embedding"
      ],
      "metadata": {
        "id": "zh5MSDCFVOWC"
      }
    },
    {
      "cell_type": "code",
      "execution_count": 20,
      "metadata": {
        "id": "bWPXjT-cPBIh"
      },
      "outputs": [],
      "source": [
        "ratings = pd.read_csv('ratings.csv', low_memory=False)\n",
        "len_user = len(ratings['user_id'].unique())\n",
        "len_book = len(ratings['book_id'].unique())"
      ]
    },
    {
      "cell_type": "markdown",
      "source": [
        "Membagi data untuk pelatihan"
      ],
      "metadata": {
        "id": "QDfrToPaVTb_"
      }
    },
    {
      "cell_type": "code",
      "execution_count": 21,
      "metadata": {
        "id": "zMlrIoXNU01G"
      },
      "outputs": [],
      "source": [
        "train, test = train_test_split(ratings, test_size=0.3, random_state=42)"
      ]
    },
    {
      "cell_type": "markdown",
      "source": [
        "## Modelling"
      ],
      "metadata": {
        "id": "_-m1KilvDY6H"
      }
    },
    {
      "cell_type": "markdown",
      "source": [
        "### Content Based Filtering"
      ],
      "metadata": {
        "id": "DSLBq3cBDbwL"
      }
    },
    {
      "cell_type": "markdown",
      "metadata": {
        "id": "WI3NUcsyvSyx"
      },
      "source": [
        "Membuat fungsi untuk rekomendasi berbasis metode Content Based Filtering"
      ]
    },
    {
      "cell_type": "code",
      "execution_count": 22,
      "metadata": {
        "id": "o1KPeG6SZMQ_"
      },
      "outputs": [],
      "source": [
        "cosine_sim = linear_kernel(tfidf_matrix, tfidf_matrix)\n",
        "\n",
        "def showIndex(id):\n",
        "  print('title:', list(combined_data.iloc[id])[1], '| author:', list(combined_data.iloc[id])[2], '| rating:', list(combined_data.iloc[id])[3])\n",
        "\n",
        "def searchTitle(title, data):\n",
        "  return list(books.loc[books['original_title'] == title][data])\n",
        "\n",
        "def printDetails(title):\n",
        "  print('\\033[1m' + 'Content Details' +'\\033[0m')\n",
        "  print('title:', searchTitle(title, 'title')[0], '| authors:', searchTitle(title, 'authors')[0], '| rating:', searchTitle(title, 'average_rating')[0])\n",
        "  return True\n",
        "\n",
        "def recomendationContent(title, max=10):\n",
        "    start_time = time.time()\n",
        "    idx = indices[title]\n",
        "    if(printDetails(title)):\n",
        "      status = True\n",
        "      sim_scores = list(enumerate(cosine_sim[idx]))\n",
        "      sim_scores = sorted(sim_scores, key=lambda x: x[1], reverse=True)\n",
        "      book_indices = [i[0] for i in sim_scores[:max+1]]\n",
        "      print('\\033[1m'+f'\\nTop {max} Recomendation - Content Based Filtering'+'\\033[0m')\n",
        "      for i in range(len(book_indices)-1):\n",
        "        showIndex(book_indices[i+1]) if status else showIndex(book_indices[i])\n",
        "    else:\n",
        "      print('Content is not in database, therefore this system recomendation will be offline')\n",
        "      print(\"\\nRecomendation system run time is %s seconds\" % (time.time() - start_time))"
      ]
    },
    {
      "cell_type": "markdown",
      "metadata": {
        "id": "6AdYRttGvdpp"
      },
      "source": [
        "Memberikan rekomendasi dengan content based filtering"
      ]
    },
    {
      "cell_type": "code",
      "execution_count": 23,
      "metadata": {
        "colab": {
          "base_uri": "https://localhost:8080/"
        },
        "id": "0Yb6i9TjZPkU",
        "outputId": "01f61f76-1b39-489e-c6c6-c7d1477ba000"
      },
      "outputs": [
        {
          "output_type": "stream",
          "name": "stdout",
          "text": [
            "\u001b[1mContent Details\u001b[0m\n",
            "title: The Hunger Games (The Hunger Games, #1) | authors: Suzanne Collins | rating: 4.34\n",
            "\u001b[1m\n",
            "Top 10 Recomendation - Content Based Filtering\u001b[0m\n",
            "title: The Hunger Games Box Set | author: Suzanne Collins | rating: 4.49\n",
            "title: Catching Fire | author: Suzanne Collins | rating: 4.3\n",
            "title: Mockingjay | author: Suzanne Collins | rating: 4.03\n",
            "title: Gregor the Overlander | author: Suzanne Collins | rating: 3.99\n",
            "title: Gregor and the Curse of the Warmbloods | author: Suzanne Collins | rating: 4.2\n",
            "title: Gregor and the Marks of Secret | author: Suzanne Collins | rating: 4.21\n",
            "title: Gregor and the Prophecy of Bane | author: Suzanne Collins | rating: 4.17\n",
            "title: Gregor and the Code of Claw | author: Suzanne Collins | rating: 4.25\n",
            "title: Hunger  | author: Michael  Grant | rating: 4.02\n",
            "title: A Hunger Like No Other | author: Kresley Cole | rating: 4.21\n"
          ]
        }
      ],
      "source": [
        "recomendationContent('The Hunger Games')"
      ]
    },
    {
      "cell_type": "markdown",
      "source": [
        "### Colaborative Filtering"
      ],
      "metadata": {
        "id": "e-5J8_3IEHCb"
      }
    },
    {
      "cell_type": "markdown",
      "source": [
        "Pembuatan arsitektur jaringan syaraf tiruan dengan KERAS API"
      ],
      "metadata": {
        "id": "zH6Os_uQVWY_"
      }
    },
    {
      "cell_type": "code",
      "execution_count": 24,
      "metadata": {
        "id": "w1EmJVswU_Gt"
      },
      "outputs": [],
      "source": [
        "books_input = Input(shape=[1], name=\"Books-Input\")\n",
        "books_embedding = Embedding(len_user+1, 4, name=\"Books-Embedding\")(books_input)\n",
        "books_vec = Flatten(name=\"Flatten-Books\")(books_embedding)\n",
        "\n",
        "user_input = Input(shape=[1], name=\"User-Input\")\n",
        "user_embedding = Embedding(len_user+1, 4, name=\"User-Embedding\")(user_input)\n",
        "user_vec = Flatten(name=\"Flatten-Users\")(user_embedding)\n",
        "\n",
        "conc_2veclayer = Concatenate()([books_vec, user_vec])\n",
        "\n",
        "fc1 = Dense(256, activation='relu')(conc_2veclayer)\n",
        "fc2 = Dense(128, activation='relu')(fc1)\n",
        "out = Dense(1)(fc2)\n",
        "\n",
        "model = Model([user_input, books_input], out)\n",
        "model.compile('adam', 'mean_squared_error')"
      ]
    },
    {
      "cell_type": "markdown",
      "source": [
        "Melihat rangkuman arsitektur"
      ],
      "metadata": {
        "id": "yv1rSfkaVlP1"
      }
    },
    {
      "cell_type": "code",
      "execution_count": 25,
      "metadata": {
        "colab": {
          "base_uri": "https://localhost:8080/"
        },
        "id": "6kDjcq4tVO0y",
        "outputId": "68bc93f4-386b-4e54-feb4-6ed181dca47b"
      },
      "outputs": [
        {
          "output_type": "stream",
          "name": "stdout",
          "text": [
            "Model: \"model\"\n",
            "__________________________________________________________________________________________________\n",
            " Layer (type)                   Output Shape         Param #     Connected to                     \n",
            "==================================================================================================\n",
            " Books-Input (InputLayer)       [(None, 1)]          0           []                               \n",
            "                                                                                                  \n",
            " User-Input (InputLayer)        [(None, 1)]          0           []                               \n",
            "                                                                                                  \n",
            " Books-Embedding (Embedding)    (None, 1, 4)         213700      ['Books-Input[0][0]']            \n",
            "                                                                                                  \n",
            " User-Embedding (Embedding)     (None, 1, 4)         213700      ['User-Input[0][0]']             \n",
            "                                                                                                  \n",
            " Flatten-Books (Flatten)        (None, 4)            0           ['Books-Embedding[0][0]']        \n",
            "                                                                                                  \n",
            " Flatten-Users (Flatten)        (None, 4)            0           ['User-Embedding[0][0]']         \n",
            "                                                                                                  \n",
            " concatenate (Concatenate)      (None, 8)            0           ['Flatten-Books[0][0]',          \n",
            "                                                                  'Flatten-Users[0][0]']          \n",
            "                                                                                                  \n",
            " dense (Dense)                  (None, 256)          2304        ['concatenate[0][0]']            \n",
            "                                                                                                  \n",
            " dense_1 (Dense)                (None, 128)          32896       ['dense[0][0]']                  \n",
            "                                                                                                  \n",
            " dense_2 (Dense)                (None, 1)            129         ['dense_1[0][0]']                \n",
            "                                                                                                  \n",
            "==================================================================================================\n",
            "Total params: 462,729\n",
            "Trainable params: 462,729\n",
            "Non-trainable params: 0\n",
            "__________________________________________________________________________________________________\n"
          ]
        }
      ],
      "source": [
        "model.summary()"
      ]
    },
    {
      "cell_type": "markdown",
      "source": [
        "Melihat visualisasi arsitektur"
      ],
      "metadata": {
        "id": "HB0clSIaVocd"
      }
    },
    {
      "cell_type": "code",
      "execution_count": 26,
      "metadata": {
        "colab": {
          "base_uri": "https://localhost:8080/",
          "height": 969
        },
        "id": "_eaGuIm0tM9G",
        "outputId": "92e13ba8-2367-4b5a-ee32-83acbc0bddce"
      },
      "outputs": [
        {
          "output_type": "execute_result",
          "data": {
            "image/png": "[encoded data removed]",
            "text/plain": [
              "<IPython.core.display.Image object>"
            ]
          },
          "metadata": {},
          "execution_count": 26
        }
      ],
      "source": [
        "tf.keras.utils.plot_model(\n",
        "    model,\n",
        "    show_shapes=True,\n",
        "    show_dtype=True,\n",
        "    show_layer_names=True,\n",
        "    expand_nested=True,\n",
        "    show_layer_activations=True,\n",
        ")"
      ]
    },
    {
      "cell_type": "markdown",
      "source": [
        "Melatih model"
      ],
      "metadata": {
        "id": "vqcWTXs7VtIM"
      }
    },
    {
      "cell_type": "code",
      "execution_count": 27,
      "metadata": {
        "colab": {
          "base_uri": "https://localhost:8080/"
        },
        "id": "zmVNlaja-6Fo",
        "outputId": "7bb0c7ac-05c7-43a1-ceee-212de48c1c00"
      },
      "outputs": [
        {
          "output_type": "stream",
          "name": "stdout",
          "text": [
            "Epoch 1/16\n",
            "10738/10738 [==============================] - 100s 9ms/step - loss: 0.8177\n",
            "Epoch 2/16\n",
            "10738/10738 [==============================] - 105s 10ms/step - loss: 0.6865\n",
            "Epoch 3/16\n",
            "10738/10738 [==============================] - 131s 12ms/step - loss: 0.6611\n",
            "Epoch 4/16\n",
            "10738/10738 [==============================] - 112s 10ms/step - loss: 0.6364\n",
            "Epoch 5/16\n",
            "10738/10738 [==============================] - 107s 10ms/step - loss: 0.6137\n",
            "Epoch 6/16\n",
            "10738/10738 [==============================] - 95s 9ms/step - loss: 0.5936\n",
            "Epoch 7/16\n",
            "10738/10738 [==============================] - 97s 9ms/step - loss: 0.5756\n",
            "Epoch 8/16\n",
            "10738/10738 [==============================] - 97s 9ms/step - loss: 0.5589\n",
            "Epoch 9/16\n",
            "10738/10738 [==============================] - 95s 9ms/step - loss: 0.5429\n",
            "Epoch 10/16\n",
            "10738/10738 [==============================] - 96s 9ms/step - loss: 0.5289\n",
            "Epoch 11/16\n",
            "10738/10738 [==============================] - 97s 9ms/step - loss: 0.5166\n",
            "Epoch 12/16\n",
            "10738/10738 [==============================] - 91s 8ms/step - loss: 0.5065\n",
            "Epoch 13/16\n",
            "10738/10738 [==============================] - 90s 8ms/step - loss: 0.4973\n",
            "Epoch 14/16\n",
            "10738/10738 [==============================] - 87s 8ms/step - loss: 0.4897\n",
            "Epoch 15/16\n",
            "10738/10738 [==============================] - 91s 8ms/step - loss: 0.4827\n",
            "Epoch 16/16\n",
            "10738/10738 [==============================] - 89s 8ms/step - loss: 0.4765\n"
          ]
        }
      ],
      "source": [
        "epoch = 16\n",
        "batch_size = 64\n",
        "history = model.fit(\n",
        "    [train.user_id, train.book_id], \n",
        "    train.rating, \n",
        "    batch_size=batch_size,\n",
        "    epochs=epoch, \n",
        "    verbose=1)"
      ]
    },
    {
      "cell_type": "markdown",
      "source": [
        "Melihat visualisasi riwayat pelatihan"
      ],
      "metadata": {
        "id": "ByVN4uQxjuc2"
      }
    },
    {
      "cell_type": "code",
      "source": [
        "print(history.history.keys())\n",
        "plt.plot(history.history['loss'])\n",
        "plt.title('model loss')\n",
        "plt.ylabel('loss')\n",
        "plt.xlabel('epoch')\n",
        "plt.show()"
      ],
      "metadata": {
        "colab": {
          "base_uri": "https://localhost:8080/",
          "height": 313
        },
        "id": "H9KU6fYsjy1R",
        "outputId": "c241728c-de68-4488-98d4-d7ef21517d4b"
      },
      "execution_count": 28,
      "outputs": [
        {
          "output_type": "stream",
          "name": "stdout",
          "text": [
            "dict_keys(['loss'])\n"
          ]
        },
        {
          "output_type": "display_data",
          "data": {
            "text/plain": [
              "<Figure size 432x288 with 1 Axes>"
            ],
            "image/png": "[encoded data removed]"
          },
          "metadata": {
            "needs_background": "light"
          }
        }
      ]
    },
    {
      "cell_type": "markdown",
      "source": [
        "Membuat fungsi untuk menampilkan hasil rekomendasi"
      ],
      "metadata": {
        "id": "geKEz1zuV4gq"
      }
    },
    {
      "cell_type": "code",
      "execution_count": 29,
      "metadata": {
        "id": "mPagJksrAE7e"
      },
      "outputs": [],
      "source": [
        "book = pd.read_csv('books.csv', low_memory=False)\n",
        "def searchId(id, data):\n",
        "  return book.loc[book['id'] == id][data].values[0]\n",
        "def showId(id):\n",
        "  print('title:', searchId(id,'original_title'), '| author:', searchId(id,'authors'), '| rating:', searchId(id,'average_rating'))\n",
        "\n",
        "def recomendationColaborative(id_user, max=10, booksReaded=False):\n",
        "  start_time = time.time()\n",
        "  books_rating = np.array(list(set(ratings.book_id)))\n",
        "  book = pd.read_csv('books.csv', low_memory=False)\n",
        "  user_readed = (ratings.loc[ratings['user_id'] == id_user])['book_id'].values\n",
        "  if booksReaded == True:\n",
        "    for i in user_readed:\n",
        "      showId(i)\n",
        "  user = np.array([id_user for i in range(len(books_rating))])\n",
        "  predictions = model.predict([user, books_rating])\n",
        "  predictions = np.array([a[0] for a in predictions])\n",
        "  top10 = (-predictions).argsort()[:max]\n",
        "  print('\\033[1m'+f'\\nTop {max} Recomendation - Collaborative Filtering'+'\\033[0m')\n",
        "  for i in top10:\n",
        "    showId(i)\n",
        "  print(\"\\nRecomendation system runtime is %s seconds\" % (time.time() - start_time))"
      ]
    },
    {
      "cell_type": "markdown",
      "source": [
        "Memberikan rekomendasi dengan metode colaborative filtering"
      ],
      "metadata": {
        "id": "ATRo2TKyRMai"
      }
    },
    {
      "cell_type": "code",
      "execution_count": 35,
      "metadata": {
        "colab": {
          "base_uri": "https://localhost:8080/"
        },
        "id": "vWvYr2Tzf-9v",
        "outputId": "6bf7f364-337c-401d-8c33-29df8a09832a"
      },
      "outputs": [
        {
          "output_type": "stream",
          "name": "stdout",
          "text": [
            "313/313 [==============================] - 1s 2ms/step\n",
            "\u001b[1m\n",
            "Top 10 Recomendation - Collaborative Filtering\u001b[0m\n",
            "title: The Source of Magic (Xanth, #2) | author: Piers Anthony | rating: 3.86\n",
            "title: Love Story | author: Erich Segal | rating: 3.6\n",
            "title: Hothouse Flower | author: Lucinda Riley | rating: 3.8\n",
            "title: The Night is for Hunting | author: John Marsden | rating: 4.15\n",
            "title: The First Confessor | author: Terry Goodkind | rating: 4.19\n",
            "title: Pinkalicious | author: Victoria Kann, Elizabeth Kann | rating: 4.05\n",
            "title: Identical | author: Ellen Hopkins | rating: 4.34\n",
            "title: How Soccer Explains the World: An Unlikely Theory of Globalization | author: Franklin Foer | rating: 3.76\n",
            "title: The Next Accident | author: Lisa Gardner | rating: 4.16\n",
            "title: Red | author: Ted Dekker | rating: 4.3\n",
            "\n",
            "Recomendation system runtime is 1.5996742248535156 seconds\n"
          ]
        }
      ],
      "source": [
        "recomendationColaborative(911)"
      ]
    }
  ],
  "metadata": {
    "colab": {
      "provenance": []
    },
    "gpuClass": "standard",
    "kernelspec": {
      "display_name": "Python 3",
      "name": "python3"
    },
    "language_info": {
      "name": "python"
    }
  },
  "nbformat": 4,
  "nbformat_minor": 0
}